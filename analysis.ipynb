{
 "cells": [
  {
   "cell_type": "markdown",
   "source": [
    "# Data Preparation"
   ],
   "metadata": {
    "collapsed": false
   },
   "id": "1d64cace7d7cf8b8"
  },
  {
   "cell_type": "code",
   "execution_count": null,
   "id": "initial_id",
   "metadata": {
    "collapsed": true
   },
   "outputs": [],
   "source": [
    "import pickle\n",
    "from pathlib import Path\n",
    "\n",
    "import pandas as pd\n",
    "from IPython.display import display, Markdown\n",
    "import plotnine as pn\n",
    "from scipy.stats import kruskal\n",
    "\n",
    "from clustering import CKMeans\n",
    "from experiment import (linear_drift, constant_diffusion, gbm_drift_and_diffusion, oup_drift, trigonometric_drift,\n",
    "                        multivariate_drift, multivariate_diffusion)\n",
    "\n",
    "\n",
    "def refactor(experiment_result: dict):\n",
    "    refactored_results = {\"simulation_mode\": (_ := ' '.join(experiment_result[\"series_name\"].split(' ')[:-1])),\n",
    "                          \"ts_mode\": _.replace(\" variable length\", ''),\n",
    "                          \"simulation_iteration\": experiment_result[\"series_name\"].split(' ')[-1],\n",
    "                          \"proxy\": experiment_result[\"series_name\"].replace(\" variable length\", ''),\n",
    "                          'length_type': \"variable\" if 'variable' in experiment_result[\n",
    "                              \"series_name\"].lower() else 'fixed',\n",
    "                          \"algorithm\": \"K-Means\" if issubclass(experiment_result['alg_model'].func,\n",
    "                                                               CKMeans) else \"DBSCAN\",\n",
    "                          **experiment_result['alg_model'].keywords}\n",
    "\n",
    "    return refactored_results\n",
    "\n",
    "\n",
    "def try_get_gamma(gamma: dict[str, float]):\n",
    "    try:\n",
    "        gamma = gamma['gamma']\n",
    "    except TypeError:\n",
    "        pass\n",
    "    return gamma\n",
    "\n",
    "\n",
    "def refactor_distance_measure(frame_section: pd.DataFrame):\n",
    "    distance_measure = frame_section['distance_measure'].tolist()\n",
    "    distance_measure = [b if pd.isnull(m) else m for m, b in\n",
    "                        zip(distance_measure, frame_section['distance_base'].tolist())]\n",
    "    gamma = frame_section['gamma'].tolist()\n",
    "    gamma = [try_get_gamma(b) if pd.isnull(m) else m for m, b in zip(gamma, frame_section['distance_base_kwargs'])]\n",
    "    return [d if pd.isnull(g) else f'{d}, gamma={round(float(g), 1)}' for d, g in zip(distance_measure, gamma)]\n",
    "\n",
    "\n",
    "results = []\n",
    "for p in Path(\"./experiments-results\").glob(\"*.experiment\"):\n",
    "    with open(p, \"rb\") as file:\n",
    "        experiment = pickle.load(file)\n",
    "        results.extend([{**refactor(r), **r} for r in experiment.results])\n",
    "\n",
    "# noinspection PyTypeChecker\n",
    "data_for_stats = (pd.DataFrame(results)\n",
    ".assign(algorithm=lambda df: df.algorithm.apply(str),\n",
    "        distance_measure=lambda df: refactor_distance_measure(df),\n",
    "        )\n",
    ".drop(\n",
    "    columns=['iterations', 'gamma', 'min_pts', 'state', 'results', 'alg_model', 'distance_base_kwargs', 'epsilon',\n",
    "             'distance_base'])\n",
    ")\n",
    "data = data_for_stats.melt(['simulation_mode', 'ts_mode', 'simulation_iteration', 'proxy',\n",
    "                            'length_type', 'algorithm', 'distance_measure', 'series_name'],\n",
    "                           var_name=\"PerformanceMeasure\")\n",
    "\n",
    "distance_measures = data.distance_measure.unique().tolist()\n",
    "simulations = data.simulation_mode.unique().tolist()\n",
    "performance_measures = ['Rand Index',\n",
    "                        'Adjusted Rand Index',\n",
    "                        'Adjusted Mutual Info Score',\n",
    "                        'Normalized Mutual Info Score',\n",
    "                        'Homogeneity Score',\n",
    "                        'Completeness Score',\n",
    "                        'V Measure']"
   ]
  },
  {
   "cell_type": "code",
   "outputs": [],
   "source": [
    "data_for_stats"
   ],
   "metadata": {
    "collapsed": false
   },
   "id": "c2eb7fbe69383e4d",
   "execution_count": null
  },
  {
   "cell_type": "code",
   "outputs": [],
   "source": [
    "data"
   ],
   "metadata": {
    "collapsed": false
   },
   "id": "1baf29a8b85e944e",
   "execution_count": null
  },
  {
   "cell_type": "markdown",
   "source": [
    "# Results summary per Algorithm"
   ],
   "metadata": {
    "collapsed": false
   },
   "id": "a5bc885196349aa6"
  },
  {
   "cell_type": "code",
   "outputs": [],
   "source": [
    "(data\n",
    " .pivot_table(values='value',\n",
    "              index=['algorithm'],\n",
    "              columns=['PerformanceMeasure']))"
   ],
   "metadata": {
    "collapsed": false
   },
   "id": "d040a7011a58099b",
   "execution_count": null
  },
  {
   "cell_type": "code",
   "outputs": [],
   "source": [
    "# noinspection PyTypeChecker\n",
    "(pn.ggplot(data, pn.aes(x='factor(algorithm)', y='value')) +\n",
    " pn.geom_violin() +\n",
    " pn.theme(axis_text_x=pn.element_text(rotation=90, hjust=1)))"
   ],
   "metadata": {
    "collapsed": false
   },
   "id": "8ccb05c3cd17388b",
   "execution_count": null
  },
  {
   "cell_type": "code",
   "outputs": [],
   "source": [
    "comparisons = []\n",
    "for measure in performance_measures:\n",
    "    kruskal_result = kruskal(data_for_stats.query(\"algorithm=='K-Means'\")[measure],\n",
    "                             data_for_stats.query(\"algorithm!='K-Means'\")[measure])\n",
    "    comparisons.append({\"measure\": measure, \"statistic\": kruskal_result.statistic, \"p-value\": kruskal_result.pvalue})\n",
    "pd.DataFrame(comparisons).sort_values('p-value', ascending=False)"
   ],
   "metadata": {
    "collapsed": false
   },
   "id": "b33d4a3d815f14de",
   "execution_count": null
  },
  {
   "cell_type": "code",
   "outputs": [],
   "source": [
    "(data\n",
    " .pivot_table(values='value',\n",
    "              index=['distance_measure'],\n",
    "              columns=['PerformanceMeasure']))"
   ],
   "metadata": {
    "collapsed": false
   },
   "id": "ad3738cc99547b98",
   "execution_count": null
  },
  {
   "cell_type": "code",
   "outputs": [],
   "source": [
    "# noinspection PyTypeChecker\n",
    "(pn.ggplot(data, pn.aes(x='factor(distance_measure)', y='value')) +\n",
    " pn.geom_violin() +\n",
    " pn.facet_wrap('algorithm') +\n",
    " pn.theme(axis_text_x=pn.element_text(rotation=90, hjust=1)))"
   ],
   "metadata": {
    "collapsed": false
   },
   "id": "77d8114490724085",
   "execution_count": null
  },
  {
   "cell_type": "code",
   "outputs": [],
   "source": [
    "with pd.option_context('display.max_rows', 100, 'display.max_columns', 10):\n",
    "    display(data\n",
    "            .pivot_table(values='value',\n",
    "                         index=['algorithm', 'distance_measure'],\n",
    "                         columns=['PerformanceMeasure']))\n",
    "\n"
   ],
   "metadata": {
    "collapsed": false
   },
   "id": "8b5ad0f46cfdeab4",
   "execution_count": null
  },
  {
   "cell_type": "code",
   "outputs": [],
   "source": [
    "comparisons = []\n",
    "for measure in performance_measures:\n",
    "    kruskal_result = kruskal(*[data_for_stats.query(\"distance_measure==@d\")[measure] for d in distance_measures])\n",
    "    comparisons.append({\"measure\": measure, \"statistic\": kruskal_result.statistic, \"p-value\": kruskal_result.pvalue})\n",
    "pd.DataFrame(comparisons).sort_values('p-value', ascending=False)"
   ],
   "metadata": {
    "collapsed": false
   },
   "id": "277b35dcba522fbc",
   "execution_count": null
  },
  {
   "cell_type": "code",
   "outputs": [],
   "source": [
    "distance_measures"
   ],
   "metadata": {
    "collapsed": false
   },
   "id": "9c9cc14078973498",
   "execution_count": null
  },
  {
   "cell_type": "markdown",
   "source": [
    "## K-Means"
   ],
   "metadata": {
    "collapsed": false
   },
   "id": "c4e4c5c369cd1fea"
  },
  {
   "cell_type": "code",
   "outputs": [],
   "source": [
    "k_means_data: pd.DataFrame = data.query(\"algorithm == 'K-Means'\")"
   ],
   "metadata": {
    "collapsed": false
   },
   "id": "7a51fa1af72a7061",
   "execution_count": null
  },
  {
   "cell_type": "code",
   "outputs": [],
   "source": [
    "(k_means_data\n",
    " .pivot_table(values='value',\n",
    "              index=['distance_measure'],\n",
    "              columns=['PerformanceMeasure']))"
   ],
   "metadata": {
    "collapsed": false
   },
   "id": "fca48e3430ff9eef",
   "execution_count": null
  },
  {
   "cell_type": "code",
   "outputs": [],
   "source": [
    "# noinspection PyTypeChecker\n",
    "(pn.ggplot(k_means_data, pn.aes(x='factor(distance_measure)', y='value')) +\n",
    " pn.geom_violin() +\n",
    " pn.theme(axis_text_x=pn.element_text(rotation=90, hjust=1)) +\n",
    " pn.ggtitle(\"K-Means\"))"
   ],
   "metadata": {
    "collapsed": false
   },
   "id": "320ba0b951d20e77",
   "execution_count": null
  },
  {
   "cell_type": "code",
   "outputs": [],
   "source": [
    "(k_means_data\n",
    " .pivot_table(values='value',\n",
    "              index=['distance_measure', 'simulation_mode'],\n",
    "              columns=['PerformanceMeasure']))"
   ],
   "metadata": {
    "collapsed": false
   },
   "id": "8c5e8751e2606c39",
   "execution_count": null
  },
  {
   "cell_type": "code",
   "outputs": [],
   "source": [
    "# noinspection PyTypeChecker\n",
    "p = (pn.ggplot(k_means_data, pn.aes(x='factor(distance_measure)', y='value')) +\n",
    " pn.geom_violin() +\n",
    " pn.facet_wrap('simulation_mode') +\n",
    " pn.theme(axis_text_x=pn.element_text(rotation=90, hjust=1), figure_size=(13, 7)) +\n",
    " pn.ggtitle(\"Results for K-Means\"))\n",
    "p.save(\"./plots/K-Means.png\")\n",
    "display(p)"
   ],
   "metadata": {
    "collapsed": false
   },
   "id": "bccc17c5ba349a23",
   "execution_count": null
  },
  {
   "cell_type": "markdown",
   "source": [
    "# DBSCAN"
   ],
   "metadata": {
    "collapsed": false
   },
   "id": "948b2e96409a6ee1"
  },
  {
   "cell_type": "code",
   "outputs": [],
   "source": [
    "dbscan_data: pd.DataFrame = data.query(\"algorithm != 'K-Means'\")"
   ],
   "metadata": {
    "collapsed": false
   },
   "id": "fe799ab9db1ef672",
   "execution_count": null
  },
  {
   "cell_type": "code",
   "outputs": [],
   "source": [
    "(dbscan_data\n",
    " .pivot_table(values='value',\n",
    "              index=['distance_measure'],\n",
    "              columns=['PerformanceMeasure']))"
   ],
   "metadata": {
    "collapsed": false
   },
   "id": "ef1c637aa7828a4c",
   "execution_count": null
  },
  {
   "cell_type": "code",
   "outputs": [],
   "source": [
    "# noinspection PyTypeChecker\n",
    "(pn.ggplot(dbscan_data, pn.aes(x='factor(distance_measure)', y='value')) +\n",
    " pn.geom_violin() +\n",
    " pn.theme(axis_text_x=pn.element_text(rotation=90, hjust=1)) +\n",
    " pn.ggtitle(\"DBSCAN\"))"
   ],
   "metadata": {
    "collapsed": false
   },
   "id": "4a1e7b45fc81a481",
   "execution_count": null
  },
  {
   "cell_type": "code",
   "outputs": [],
   "source": [
    "(dbscan_data\n",
    " .pivot_table(values='value',\n",
    "              index=['distance_measure', 'simulation_mode'],\n",
    "              columns=['PerformanceMeasure']))"
   ],
   "metadata": {
    "collapsed": false
   },
   "id": "624d80b0c064fb4",
   "execution_count": null
  },
  {
   "cell_type": "code",
   "outputs": [],
   "source": [
    "# noinspection PyTypeChecker\n",
    "p = (pn.ggplot(dbscan_data, pn.aes(x='factor(distance_measure)', y='value')) +\n",
    "     pn.geom_violin() +\n",
    "     pn.facet_wrap('simulation_mode') +\n",
    "     pn.theme(axis_text_x=pn.element_text(rotation=90, hjust=1), figure_size=(14, 8)) +\n",
    "     pn.ggtitle(\"Results for DBSCAN\"))\n",
    "p.save(\"plots/DBSCAN.png\")\n",
    "\n",
    "p"
   ],
   "metadata": {
    "collapsed": false
   },
   "id": "ed43655059245861",
   "execution_count": null
  },
  {
   "cell_type": "markdown",
   "source": [
    "# Summary all results"
   ],
   "metadata": {
    "collapsed": false
   },
   "id": "919bcb75ccd3040e"
  },
  {
   "cell_type": "code",
   "outputs": [],
   "source": [
    "data_for_stats.query(\"algorithm != 'K-Means'\")"
   ],
   "metadata": {
    "collapsed": false
   },
   "id": "c36d4b02a9d1c60c",
   "execution_count": null
  },
  {
   "cell_type": "code",
   "outputs": [],
   "source": [
    "keeper = {}\n",
    "comparisons = []\n",
    "for alg in data_for_stats.algorithm.unique().tolist():\n",
    "    for l_type in ['variable', 'fixed']:\n",
    "        for s in data_for_stats.ts_mode.unique().tolist():\n",
    "            for measure in performance_measures:\n",
    "                temp = (data_for_stats.query(\n",
    "                    \"algorithm==@alg & \"\n",
    "                    \"length_type==@l_type &\"\n",
    "                    \"ts_mode==@s\")\n",
    "                        .pivot(columns='distance_measure',\n",
    "                               index='series_name',\n",
    "                               values=measure))\n",
    "                kruskal_result = kruskal(*temp.dropna().T.values.tolist())\n",
    "                comparisons.append(\n",
    "                    {\"algorithm\": alg, \"simulation mode\": s, \"measure\": measure, \"statistic\": kruskal_result.statistic,\n",
    "                     \"p-value\": kruskal_result.pvalue})\n",
    "        display(Markdown(f\"# {alg}, {l_type}\"))\n",
    "        display(pd.DataFrame(comparisons).sort_values('p-value', ascending=True))\n",
    "        keeper[f\"{alg}_{l_type}\"] = comparisons\n",
    "        comparisons = []"
   ],
   "metadata": {
    "collapsed": false
   },
   "id": "644c9d786b4aaf04",
   "execution_count": null
  },
  {
   "cell_type": "code",
   "outputs": [],
   "source": [
    "comparisons = []\n",
    "for alg in data_for_stats.algorithm.unique().tolist():\n",
    "    for d in distance_measures:\n",
    "        for s in data_for_stats.ts_mode.unique().tolist():\n",
    "            for measure in performance_measures:\n",
    "                temp = (data_for_stats\n",
    "                        .query(\"algorithm==@alg & \"\n",
    "                               \"ts_mode==@s &\"\n",
    "                               \"distance_measure==@d\"\n",
    "                               )\n",
    "                        .pivot(columns='length_type',\n",
    "                               index='proxy',\n",
    "                               values=measure))\n",
    "                kruskal_result = kruskal(*temp.dropna().T.values.tolist())\n",
    "                comparisons.append(\n",
    "                    {\"algorithm\": alg, 'distance_measure': d, \"simulation mode\": s, \"measure\": measure,\n",
    "                     \"statistic\": kruskal_result.statistic,\n",
    "                     \"p-value\": kruskal_result.pvalue})\n",
    "pd.DataFrame(comparisons).sort_values(by='p-value', ascending=True)"
   ],
   "metadata": {
    "collapsed": false
   },
   "id": "2e6ae26570bd59ad",
   "execution_count": null
  },
  {
   "cell_type": "code",
   "outputs": [],
   "source": [
    "# noinspection PyTypeChecker\n",
    "for measure in performance_measures:\n",
    "    p = (pn.ggplot(data.query(\"algorithm == 'DBSCAN' & \"\n",
    "                              \"PerformanceMeasure==@measure\"), \n",
    "                   pn.aes(x='factor(distance_measure)', y='value')) +\n",
    "         pn.geom_violin() +\n",
    "         pn.facet_wrap('simulation_mode') +\n",
    "         pn.theme(axis_text_x=pn.element_text(rotation=90, hjust=1), \n",
    "                  figure_size=(14, 8)) +\n",
    "         pn.ggtitle(f\"Results for DBSCAN; {measure=}\"))\n",
    "    p.save(f\"./plots/dbscan-{measure.replace(' ', '_')}.png\")\n",
    "    display(p)"
   ],
   "metadata": {
    "collapsed": false
   },
   "id": "ce8e86f0e724e90f",
   "execution_count": null
  },
  {
   "cell_type": "code",
   "outputs": [],
   "source": [
    "# noinspection PyTypeChecker\n",
    "for measure in performance_measures:\n",
    "    p = (pn.ggplot(data.query(\"algorithm == 'K-Means' & \"\n",
    "                              \"PerformanceMeasure==@measure\"),\n",
    "                   pn.aes(x='factor(distance_measure)', y='value')) +\n",
    "         pn.geom_violin() +\n",
    "         pn.facet_wrap('simulation_mode') +\n",
    "         pn.theme(axis_text_x=pn.element_text(rotation=90, hjust=1),\n",
    "                  figure_size=(14, 8)) +\n",
    "         pn.ggtitle(f\"Results for K-Means; {measure=}\"))\n",
    "    p.save(f\"./plots/k_means-{measure.replace(' ', '_')}.png\")\n",
    "    display(p)"
   ],
   "metadata": {
    "collapsed": false
   },
   "id": "e833a9e43cff67ff",
   "execution_count": null
  },
  {
   "cell_type": "code",
   "outputs": [],
   "source": [
    "for k, v in keeper.items():\n",
    "    with open(f\"./tables/{k}.tex\", 'w') as file:\n",
    "        file.writelines(pd.DataFrame(v).sort_values('p-value', ascending=True).to_latex(index=False))"
   ],
   "metadata": {
    "collapsed": false
   },
   "id": "bded95e0fd3c6b6f",
   "execution_count": null
  },
  {
   "cell_type": "code",
   "outputs": [],
   "source": [
    "pd.DataFrame(keeper['DBSCAN_variable']).sort_values('p-value', ascending=True).tail()"
   ],
   "metadata": {
    "collapsed": false
   },
   "id": "e86590625bc38218",
   "execution_count": null
  }
 ],
 "metadata": {
  "kernelspec": {
   "display_name": "Python 3",
   "language": "python",
   "name": "python3"
  },
  "language_info": {
   "codemirror_mode": {
    "name": "ipython",
    "version": 2
   },
   "file_extension": ".py",
   "mimetype": "text/x-python",
   "name": "python",
   "nbconvert_exporter": "python",
   "pygments_lexer": "ipython2",
   "version": "2.7.6"
  }
 },
 "nbformat": 4,
 "nbformat_minor": 5
}
